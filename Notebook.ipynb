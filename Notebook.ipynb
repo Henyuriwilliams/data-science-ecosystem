{
 "cells": [
  {
   "cell_type": "markdown",
   "id": "a3154251-936a-4bb4-adc7-c2f96baff119",
   "metadata": {},
   "source": [
    "Data Science Tools and Ecosystem"
   ]
  },
  {
   "cell_type": "markdown",
   "id": "bcbc8cf9-c7fc-48c3-8d8c-aff806a9e90f",
   "metadata": {},
   "source": [
    "In this notebook, Data Science Tools and Ecosystem are summarized."
   ]
  },
  {
   "cell_type": "markdown",
   "id": "ccf7448f-ea78-43a7-84c8-27c53cdc67a2",
   "metadata": {},
   "source": [
    "Some of the popular languages that Data Scientists use are:"
   ]
  },
  {
   "cell_type": "markdown",
   "id": "9a1a869a-05b2-401e-9b5d-5d29ad3651b5",
   "metadata": {},
   "source": [
    "1. Python"
   ]
  },
  {
   "cell_type": "markdown",
   "id": "1c573a99-21ae-4fb3-90f2-16d08e5213ce",
   "metadata": {},
   "source": [
    "2. R"
   ]
  },
  {
   "cell_type": "markdown",
   "id": "74bd0642-d0e0-4eba-a6d5-6cc3551578c2",
   "metadata": {},
   "source": [
    "3. SQL"
   ]
  },
  {
   "cell_type": "markdown",
   "id": "7eff7401-78e9-4ad0-b132-ebb15466569b",
   "metadata": {},
   "source": [
    "Some of the commonly used libraries used by Data Scientists include:"
   ]
  },
  {
   "cell_type": "markdown",
   "id": "0dcde683-b5fb-4aff-87e7-2784909f843b",
   "metadata": {},
   "source": [
    "1. Pandas"
   ]
  },
  {
   "cell_type": "markdown",
   "id": "a2b2c27f-6230-492b-9e0c-7b723fb5ef4e",
   "metadata": {},
   "source": [
    "2. NumPy"
   ]
  },
  {
   "cell_type": "markdown",
   "id": "a6db461c-bd53-481a-a5cc-1586af8ce50f",
   "metadata": {
    "jp-MarkdownHeadingCollapsed": true
   },
   "source": [
    "3. Matplotlib"
   ]
  },
  {
   "cell_type": "markdown",
   "id": "0b80eaf4-977e-440f-aa24-d614cad55be2",
   "metadata": {},
   "source": [
    "| Data Science Tools |\n",
    "|----------------------------------|\n",
    "| Jupyter Notebooks                |\n",
    "| RStudio                          |\n",
    "| Apache Spark                     |"
   ]
  },
  {
   "cell_type": "markdown",
   "id": "ece609c4-1c1d-46b6-b448-3562d62850e0",
   "metadata": {},
   "source": [
    "### Below are a few examples of evaluating arithmetic expressions in Python"
   ]
  },
  {
   "cell_type": "code",
   "execution_count": 32,
   "id": "a29ef180-f25a-4d82-9b16-aac0238ea805",
   "metadata": {},
   "outputs": [],
   "source": [
    "# This a simple arithmetic expression to multiply then add integers \n"
   ]
  },
  {
   "cell_type": "code",
   "execution_count": 33,
   "id": "012deb4a-6bc9-4340-8cc4-5e6199b9a4b9",
   "metadata": {},
   "outputs": [
    {
     "data": {
      "text/plain": [
       "17"
      ]
     },
     "execution_count": 33,
     "metadata": {},
     "output_type": "execute_result"
    }
   ],
   "source": [
    "(3*4)+5"
   ]
  },
  {
   "cell_type": "code",
   "execution_count": 34,
   "id": "54df6656-7a1c-4467-b730-540f274d3d6c",
   "metadata": {},
   "outputs": [
    {
     "data": {
      "text/plain": [
       "3.3333333333333335"
      ]
     },
     "execution_count": 34,
     "metadata": {},
     "output_type": "execute_result"
    }
   ],
   "source": [
    "# This will convert 200 minutes to hours by diving by 60.\n",
    "200/60"
   ]
  },
  {
   "cell_type": "markdown",
   "id": "cc185333-ece8-4018-846c-5e653d327341",
   "metadata": {},
   "source": [
    "**Objectives:**\n",
    "- List popular languages for Data Science\n",
    "- Show common libraries used in Data Science\n",
    "- Present development tools and environments\n",
    "- Demonstrate basic arithmetic operations in Python"
   ]
  },
  {
   "cell_type": "markdown",
   "id": "31b9e919-4253-4a51-a28a-ec57d8c1188b",
   "metadata": {},
   "source": [
    "## Author  \n",
    "[Henyuri Williams]"
   ]
  },
  {
   "cell_type": "markdown",
   "id": "86ed2c45-cc93-4790-a8f7-c56288fb92f6",
   "metadata": {},
   "source": []
  }
 ],
 "metadata": {
  "kernelspec": {
   "display_name": "Python 3 (ipykernel)",
   "language": "python",
   "name": "python3"
  },
  "language_info": {
   "codemirror_mode": {
    "name": "ipython",
    "version": 3
   },
   "file_extension": ".py",
   "mimetype": "text/x-python",
   "name": "python",
   "nbconvert_exporter": "python",
   "pygments_lexer": "ipython3",
   "version": "3.12.8"
  }
 },
 "nbformat": 4,
 "nbformat_minor": 5
}
